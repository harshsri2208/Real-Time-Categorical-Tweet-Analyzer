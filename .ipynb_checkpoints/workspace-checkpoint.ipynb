{
 "cells": [
  {
   "cell_type": "code",
   "execution_count": 26,
   "metadata": {},
   "outputs": [],
   "source": [
    "# this program is a test implementation of twitter sentiment analysis\n",
    "\n",
    "# importing important libraries\n",
    "\n",
    "import re\n",
    "import pandas as pd \n",
    "import numpy as np \n",
    "import matplotlib.pyplot as plt \n",
    "import seaborn as sns\n",
    "import string\n",
    "import nltk\n",
    "import warnings \n",
    "import tweepy \n",
    "from tweepy import OAuthHandler \n",
    "from textblob import TextBlob\n",
    "from nltk.stem.porter import * \n",
    "warnings.filterwarnings(\"ignore\", category=DeprecationWarning)\n",
    "%matplotlib inline"
   ]
  },
  {
   "cell_type": "code",
   "execution_count": 27,
   "metadata": {},
   "outputs": [
    {
     "data": {
      "text/html": [
       "<div>\n",
       "<style scoped>\n",
       "    .dataframe tbody tr th:only-of-type {\n",
       "        vertical-align: middle;\n",
       "    }\n",
       "\n",
       "    .dataframe tbody tr th {\n",
       "        vertical-align: top;\n",
       "    }\n",
       "\n",
       "    .dataframe thead th {\n",
       "        text-align: right;\n",
       "    }\n",
       "</style>\n",
       "<table border=\"1\" class=\"dataframe\">\n",
       "  <thead>\n",
       "    <tr style=\"text-align: right;\">\n",
       "      <th></th>\n",
       "      <th>id</th>\n",
       "      <th>label</th>\n",
       "      <th>tweet</th>\n",
       "    </tr>\n",
       "  </thead>\n",
       "  <tbody>\n",
       "    <tr>\n",
       "      <th>0</th>\n",
       "      <td>1</td>\n",
       "      <td>0</td>\n",
       "      <td>RT @AskAnshul: BBC interviewed 4 Indian Muslim...</td>\n",
       "    </tr>\n",
       "    <tr>\n",
       "      <th>1</th>\n",
       "      <td>2</td>\n",
       "      <td>0</td>\n",
       "      <td>RT @TIinExile: The future Ram Mandir of Ayodhy...</td>\n",
       "    </tr>\n",
       "    <tr>\n",
       "      <th>2</th>\n",
       "      <td>3</td>\n",
       "      <td>0</td>\n",
       "      <td>RT @ShakunthalaHS: ಮುಂದೆ ಇತಿಹಾಸದಲ್ಲಿ ಬರೆದಿಡಲಾಗ...</td>\n",
       "    </tr>\n",
       "    <tr>\n",
       "      <th>3</th>\n",
       "      <td>4</td>\n",
       "      <td>0</td>\n",
       "      <td>RT @ashutosh83B: उर्मिलेश की धारदार क़लम से\\n\\...</td>\n",
       "    </tr>\n",
       "    <tr>\n",
       "      <th>4</th>\n",
       "      <td>5</td>\n",
       "      <td>0</td>\n",
       "      <td>RT @rpbreakingnews: #AyodhyaCase  में सोशल मीड...</td>\n",
       "    </tr>\n",
       "  </tbody>\n",
       "</table>\n",
       "</div>"
      ],
      "text/plain": [
       "  id label                                              tweet\n",
       "0  1     0  RT @AskAnshul: BBC interviewed 4 Indian Muslim...\n",
       "1  2     0  RT @TIinExile: The future Ram Mandir of Ayodhy...\n",
       "2  3     0  RT @ShakunthalaHS: ಮುಂದೆ ಇತಿಹಾಸದಲ್ಲಿ ಬರೆದಿಡಲಾಗ...\n",
       "3  4     0  RT @ashutosh83B: उर्मिलेश की धारदार क़लम से\\n\\...\n",
       "4  5     0  RT @rpbreakingnews: #AyodhyaCase  में सोशल मीड..."
      ]
     },
     "execution_count": 27,
     "metadata": {},
     "output_type": "execute_result"
    }
   ],
   "source": [
    "# creating Twitter Client class\n",
    "\n",
    "class TwitterClient(object): \n",
    "    ''' \n",
    "    Generic Twitter Class for sentiment analysis. \n",
    "    '''\n",
    "    def __init__(self): \n",
    "        ''' \n",
    "        Class constructor or initialization method. \n",
    "        '''\n",
    "        # keys and tokens from the Twitter Dev Console \n",
    "        consumer_key = 'ERS05dnwc0TYR0OdsUb5laSVm'\n",
    "        consumer_secret = '00pvBBm7YZERmcvZaY1wKJC5Wu8YkRamSDubWLlCDioQSR29YX'\n",
    "        access_token = '1187987957921144833-VjnzaLAfcASRaCkl3gzQWjnL4k1E4x'\n",
    "        access_token_secret = 'rg0BFRXIKpm7knuBbf5V4c40IwrMhBBONtUVzVsofRAth'\n",
    "  \n",
    "        # attempt authentication \n",
    "        try: \n",
    "            # create OAuthHandler object \n",
    "            self.auth = OAuthHandler(consumer_key, consumer_secret) \n",
    "            # set access token and secret \n",
    "            self.auth.set_access_token(access_token, access_token_secret) \n",
    "            # create tweepy API object to fetch tweets \n",
    "            self.api = tweepy.API(self.auth) \n",
    "        except: \n",
    "            print(\"Error: Authentication Failed\") \n",
    "  \n",
    "    def clean_tweet(self, tweet): \n",
    "        ''' \n",
    "        Utility function to clean tweet text by removing links, special characters \n",
    "        using simple regex statements. \n",
    "        '''\n",
    "        return ' '.join(re.sub(\"(@[A-Za-z0-9]+)|([^0-9A-Za-z \\t])|(\\w+:\\/\\/\\S+)\", \" \", tweet).split()) \n",
    "  \n",
    "    def get_tweet_sentiment(self, tweet): \n",
    "        ''' \n",
    "        Utility function to classify sentiment of passed tweet \n",
    "        using textblob's sentiment method \n",
    "        '''\n",
    "        # create TextBlob object of passed tweet text \n",
    "        analysis = TextBlob(self.clean_tweet(tweet)) \n",
    "        # set sentiment \n",
    "        if analysis.sentiment.polarity < 0: \n",
    "            return 1\n",
    "        else: \n",
    "            return 0\n",
    "  \n",
    "    def get_tweets(self, query, count = 1000): \n",
    "        ''' \n",
    "        Main function to fetch tweets and parse them. \n",
    "        '''\n",
    "        # empty list to store parsed tweets \n",
    "        tweets = [] \n",
    "  \n",
    "        try: \n",
    "            # call twitter api to fetch tweets \n",
    "            fetched_tweets = self.api.search(q = query, count = count) \n",
    "  \n",
    "            # parsing tweets one by one \n",
    "            for tweet in fetched_tweets: \n",
    "                # empty dictionary to store required params of a tweet \n",
    "                parsed_tweet = {} \n",
    "  \n",
    "                # saving text of tweet \n",
    "                parsed_tweet['text'] = tweet.text \n",
    "                # saving sentiment of tweet \n",
    "                parsed_tweet['sentiment'] = self.get_tweet_sentiment(tweet.text) \n",
    "  \n",
    "                # appending parsed tweet to tweets list \n",
    "                if tweet.retweet_count > 0: \n",
    "                    # if tweet has retweets, ensure that it is appended only once \n",
    "                    if parsed_tweet not in tweets: \n",
    "                        tweets.append(parsed_tweet) \n",
    "                else: \n",
    "                    tweets.append(parsed_tweet) \n",
    "  \n",
    "            # return parsed tweets \n",
    "            return tweets \n",
    "  \n",
    "        except tweepy.TweepError as e: \n",
    "            # print error (if any) \n",
    "            print(\"Error : \" + str(e))\n",
    "                               \n",
    "api=TwitterClient()\n",
    "tweets=api.get_tweets(query=\"ayodhya\")\n",
    "tweets\n",
    "total_data=pd.read_csv('empty.csv')\n",
    "train=pd.read_csv('empty1.csv')\n",
    "test=pd.read_csv('empty2.csv')\n",
    "trainsize=int(len(tweets)*0.6)\n",
    "for i in range(len(tweets)):\n",
    "    if i<trainsize:\n",
    "        train.loc[i]=[i+1,tweets[i][\"sentiment\"],tweets[i][\"text\"]]\n",
    "    else:\n",
    "        test.loc[i]=[i+1,tweets[i][\"sentiment\"],tweets[i][\"text\"]]\n",
    "    total_data.loc[i]=[i+1,tweets[i][\"sentiment\"],tweets[i][\"text\"]]\n",
    "    i=i+1\n",
    "    \n",
    "total_data.head()"
   ]
  },
  {
   "cell_type": "code",
   "execution_count": 28,
   "metadata": {},
   "outputs": [
    {
     "name": "stdout",
     "output_type": "stream",
     "text": [
      "64\n",
      "38\n",
      "26\n"
     ]
    }
   ],
   "source": [
    "# loading training and test data\n",
    "\n",
    "#train  = pd.read_csv('Dataset/train_tweets.csv')\n",
    "#test = pd.read_csv('Dataset/test_tweets.csv')\n",
    "\n",
    "#combining training and and test data for preprocessing \n",
    "#total_data = train.append(test, ignore_index=True)\n",
    "print(len(total_data))\n",
    "print(len(train))\n",
    "print(len(test))"
   ]
  },
  {
   "cell_type": "code",
   "execution_count": 29,
   "metadata": {},
   "outputs": [],
   "source": [
    "#train.head()"
   ]
  },
  {
   "cell_type": "code",
   "execution_count": 30,
   "metadata": {},
   "outputs": [],
   "source": [
    "#function to remove @word pattern from the tweets as they do not add any value\n",
    "\n",
    "def remove_pattern(input_txt, pattern):\n",
    "    r = re.findall(pattern, input_txt)\n",
    "    for i in r:\n",
    "        input_txt = re.sub(i, '', input_txt)\n",
    "        \n",
    "    return input_txt"
   ]
  },
  {
   "cell_type": "code",
   "execution_count": 31,
   "metadata": {},
   "outputs": [
    {
     "name": "stdout",
     "output_type": "stream",
     "text": [
      "\n",
      "\n",
      "Removing  Twitter Handles \n",
      "\n",
      "\n"
     ]
    },
    {
     "data": {
      "text/html": [
       "<div>\n",
       "<style scoped>\n",
       "    .dataframe tbody tr th:only-of-type {\n",
       "        vertical-align: middle;\n",
       "    }\n",
       "\n",
       "    .dataframe tbody tr th {\n",
       "        vertical-align: top;\n",
       "    }\n",
       "\n",
       "    .dataframe thead th {\n",
       "        text-align: right;\n",
       "    }\n",
       "</style>\n",
       "<table border=\"1\" class=\"dataframe\">\n",
       "  <thead>\n",
       "    <tr style=\"text-align: right;\">\n",
       "      <th></th>\n",
       "      <th>id</th>\n",
       "      <th>label</th>\n",
       "      <th>tweet</th>\n",
       "      <th>tidy_tweet</th>\n",
       "    </tr>\n",
       "  </thead>\n",
       "  <tbody>\n",
       "    <tr>\n",
       "      <th>0</th>\n",
       "      <td>1</td>\n",
       "      <td>0</td>\n",
       "      <td>RT @AskAnshul: BBC interviewed 4 Indian Muslim...</td>\n",
       "      <td>RT : BBC interviewed 4 Indian Muslim youth fro...</td>\n",
       "    </tr>\n",
       "    <tr>\n",
       "      <th>1</th>\n",
       "      <td>2</td>\n",
       "      <td>0</td>\n",
       "      <td>RT @TIinExile: The future Ram Mandir of Ayodhy...</td>\n",
       "      <td>RT : The future Ram Mandir of Ayodhya should b...</td>\n",
       "    </tr>\n",
       "    <tr>\n",
       "      <th>2</th>\n",
       "      <td>3</td>\n",
       "      <td>0</td>\n",
       "      <td>RT @ShakunthalaHS: ಮುಂದೆ ಇತಿಹಾಸದಲ್ಲಿ ಬರೆದಿಡಲಾಗ...</td>\n",
       "      <td>RT : ಮುಂದೆ ಇತಿಹಾಸದಲ್ಲಿ ಬರೆದಿಡಲಾಗುತ್ತದೆ \\n\\nಕೇವ...</td>\n",
       "    </tr>\n",
       "    <tr>\n",
       "      <th>3</th>\n",
       "      <td>4</td>\n",
       "      <td>0</td>\n",
       "      <td>RT @ashutosh83B: उर्मिलेश की धारदार क़लम से\\n\\...</td>\n",
       "      <td>RT : उर्मिलेश की धारदार क़लम से\\n\\nअयोध्या: जब...</td>\n",
       "    </tr>\n",
       "    <tr>\n",
       "      <th>4</th>\n",
       "      <td>5</td>\n",
       "      <td>0</td>\n",
       "      <td>RT @rpbreakingnews: #AyodhyaCase  में सोशल मीड...</td>\n",
       "      <td>RT : #AyodhyaCase  में सोशल मीडिया पर की विवाद...</td>\n",
       "    </tr>\n",
       "  </tbody>\n",
       "</table>\n",
       "</div>"
      ],
      "text/plain": [
       "  id label                                              tweet  \\\n",
       "0  1     0  RT @AskAnshul: BBC interviewed 4 Indian Muslim...   \n",
       "1  2     0  RT @TIinExile: The future Ram Mandir of Ayodhy...   \n",
       "2  3     0  RT @ShakunthalaHS: ಮುಂದೆ ಇತಿಹಾಸದಲ್ಲಿ ಬರೆದಿಡಲಾಗ...   \n",
       "3  4     0  RT @ashutosh83B: उर्मिलेश की धारदार क़लम से\\n\\...   \n",
       "4  5     0  RT @rpbreakingnews: #AyodhyaCase  में सोशल मीड...   \n",
       "\n",
       "                                          tidy_tweet  \n",
       "0  RT : BBC interviewed 4 Indian Muslim youth fro...  \n",
       "1  RT : The future Ram Mandir of Ayodhya should b...  \n",
       "2  RT : ಮುಂದೆ ಇತಿಹಾಸದಲ್ಲಿ ಬರೆದಿಡಲಾಗುತ್ತದೆ \\n\\nಕೇವ...  \n",
       "3  RT : उर्मिलेश की धारदार क़लम से\\n\\nअयोध्या: जब...  \n",
       "4  RT : #AyodhyaCase  में सोशल मीडिया पर की विवाद...  "
      ]
     },
     "execution_count": 31,
     "metadata": {},
     "output_type": "execute_result"
    }
   ],
   "source": [
    "# removing @username patterns from tweets using remove_pattern function\n",
    "\n",
    "print('\\n\\nRemoving  Twitter Handles \\n\\n')\n",
    "total_data['tidy_tweet'] = np.vectorize(remove_pattern)(total_data['tweet'], \"@[\\w]*\")\n",
    "total_data.head()"
   ]
  },
  {
   "cell_type": "code",
   "execution_count": 32,
   "metadata": {},
   "outputs": [
    {
     "name": "stdout",
     "output_type": "stream",
     "text": [
      "\n",
      "\n",
      "Removing Short Words\n",
      "\n",
      "\n"
     ]
    },
    {
     "data": {
      "text/html": [
       "<div>\n",
       "<style scoped>\n",
       "    .dataframe tbody tr th:only-of-type {\n",
       "        vertical-align: middle;\n",
       "    }\n",
       "\n",
       "    .dataframe tbody tr th {\n",
       "        vertical-align: top;\n",
       "    }\n",
       "\n",
       "    .dataframe thead th {\n",
       "        text-align: right;\n",
       "    }\n",
       "</style>\n",
       "<table border=\"1\" class=\"dataframe\">\n",
       "  <thead>\n",
       "    <tr style=\"text-align: right;\">\n",
       "      <th></th>\n",
       "      <th>id</th>\n",
       "      <th>label</th>\n",
       "      <th>tweet</th>\n",
       "      <th>tidy_tweet</th>\n",
       "    </tr>\n",
       "  </thead>\n",
       "  <tbody>\n",
       "    <tr>\n",
       "      <th>0</th>\n",
       "      <td>1</td>\n",
       "      <td>0</td>\n",
       "      <td>RT @AskAnshul: BBC interviewed 4 Indian Muslim...</td>\n",
       "      <td>interviewed Indian Muslim youth from Ayodhya. ...</td>\n",
       "    </tr>\n",
       "    <tr>\n",
       "      <th>1</th>\n",
       "      <td>2</td>\n",
       "      <td>0</td>\n",
       "      <td>RT @TIinExile: The future Ram Mandir of Ayodhy...</td>\n",
       "      <td>future Mandir Ayodhya should grand &amp;amp; glori...</td>\n",
       "    </tr>\n",
       "    <tr>\n",
       "      <th>2</th>\n",
       "      <td>3</td>\n",
       "      <td>0</td>\n",
       "      <td>RT @ShakunthalaHS: ಮುಂದೆ ಇತಿಹಾಸದಲ್ಲಿ ಬರೆದಿಡಲಾಗ...</td>\n",
       "      <td>ಮುಂದೆ ಇತಿಹಾಸದಲ್ಲಿ ಬರೆದಿಡಲಾಗುತ್ತದೆ ಕೇವಲ ದಿನಗಳಲ್...</td>\n",
       "    </tr>\n",
       "    <tr>\n",
       "      <th>3</th>\n",
       "      <td>4</td>\n",
       "      <td>0</td>\n",
       "      <td>RT @ashutosh83B: उर्मिलेश की धारदार क़लम से\\n\\...</td>\n",
       "      <td>उर्मिलेश धारदार क़लम अयोध्या: अदालत मानती मंदि...</td>\n",
       "    </tr>\n",
       "    <tr>\n",
       "      <th>4</th>\n",
       "      <td>5</td>\n",
       "      <td>0</td>\n",
       "      <td>RT @rpbreakingnews: #AyodhyaCase  में सोशल मीड...</td>\n",
       "      <td>#AyodhyaCase सोशल मीडिया विवादित पोस्ट, #Rajas...</td>\n",
       "    </tr>\n",
       "  </tbody>\n",
       "</table>\n",
       "</div>"
      ],
      "text/plain": [
       "  id label                                              tweet  \\\n",
       "0  1     0  RT @AskAnshul: BBC interviewed 4 Indian Muslim...   \n",
       "1  2     0  RT @TIinExile: The future Ram Mandir of Ayodhy...   \n",
       "2  3     0  RT @ShakunthalaHS: ಮುಂದೆ ಇತಿಹಾಸದಲ್ಲಿ ಬರೆದಿಡಲಾಗ...   \n",
       "3  4     0  RT @ashutosh83B: उर्मिलेश की धारदार क़लम से\\n\\...   \n",
       "4  5     0  RT @rpbreakingnews: #AyodhyaCase  में सोशल मीड...   \n",
       "\n",
       "                                          tidy_tweet  \n",
       "0  interviewed Indian Muslim youth from Ayodhya. ...  \n",
       "1  future Mandir Ayodhya should grand &amp; glori...  \n",
       "2  ಮುಂದೆ ಇತಿಹಾಸದಲ್ಲಿ ಬರೆದಿಡಲಾಗುತ್ತದೆ ಕೇವಲ ದಿನಗಳಲ್...  \n",
       "3  उर्मिलेश धारदार क़लम अयोध्या: अदालत मानती मंदि...  \n",
       "4  #AyodhyaCase सोशल मीडिया विवादित पोस्ट, #Rajas...  "
      ]
     },
     "execution_count": 32,
     "metadata": {},
     "output_type": "execute_result"
    }
   ],
   "source": [
    "# words with small lenght i.e., words having length smaller than 3 hardly hold any sentiment\n",
    "# hence it is better to remove such words\n",
    "\n",
    "print('\\n\\nRemoving Short Words\\n\\n')\n",
    "total_data['tidy_tweet'] = total_data['tidy_tweet'].apply(lambda x: ' '.join([w for w in x.split() if len(w)>3]))\n",
    "total_data.head()"
   ]
  },
  {
   "cell_type": "code",
   "execution_count": 33,
   "metadata": {},
   "outputs": [
    {
     "name": "stdout",
     "output_type": "stream",
     "text": [
      "\n",
      "\n",
      "Tweet Tokenization\n",
      "\n",
      "\n"
     ]
    },
    {
     "data": {
      "text/plain": [
       "0    [interviewed, Indian, Muslim, youth, from, Ayo...\n",
       "1    [future, Mandir, Ayodhya, should, grand, &amp;...\n",
       "2    [ಮುಂದೆ, ಇತಿಹಾಸದಲ್ಲಿ, ಬರೆದಿಡಲಾಗುತ್ತದೆ, ಕೇವಲ, ದಿ...\n",
       "3    [उर्मिलेश, धारदार, क़लम, अयोध्या:, अदालत, मानत...\n",
       "4    [#AyodhyaCase, सोशल, मीडिया, विवादित, पोस्ट,, ...\n",
       "Name: tidy_tweet, dtype: object"
      ]
     },
     "execution_count": 33,
     "metadata": {},
     "output_type": "execute_result"
    }
   ],
   "source": [
    "# separating each word as a token\n",
    "\n",
    "print('\\n\\nTweet Tokenization\\n\\n')\n",
    "tokenized_tweet = total_data['tidy_tweet'].apply(lambda x: x.split())\n",
    "tokenized_tweet.head()"
   ]
  },
  {
   "cell_type": "code",
   "execution_count": 34,
   "metadata": {},
   "outputs": [
    {
     "name": "stdout",
     "output_type": "stream",
     "text": [
      "\n",
      "\n",
      "Stemming\n",
      "\n",
      "\n"
     ]
    },
    {
     "data": {
      "text/plain": [
       "0    [interview, indian, muslim, youth, from, ayodh...\n",
       "1    [futur, mandir, ayodhya, should, grand, &amp;,...\n",
       "2    [ಮುಂದೆ, ಇತಿಹಾಸದಲ್ಲಿ, ಬರೆದಿಡಲಾಗುತ್ತದೆ, ಕೇವಲ, ದಿ...\n",
       "3    [उर्मिलेश, धारदार, क़लम, अयोध्या:, अदालत, मानत...\n",
       "4    [#ayodhyacas, सोशल, मीडिया, विवादित, पोस्ट,, #...\n",
       "Name: tidy_tweet, dtype: object"
      ]
     },
     "execution_count": 34,
     "metadata": {},
     "output_type": "execute_result"
    }
   ],
   "source": [
    "# stemming words i.e, words are play,playing,played are treated similarly\n",
    "\n",
    "print('\\n\\nStemming\\n\\n')\n",
    "stemmer = PorterStemmer()\n",
    "tokenized_tweet = tokenized_tweet.apply(lambda x: [stemmer.stem(i) for i in x])\n",
    "tokenized_tweet.head()"
   ]
  },
  {
   "cell_type": "code",
   "execution_count": 35,
   "metadata": {},
   "outputs": [
    {
     "data": {
      "text/html": [
       "<div>\n",
       "<style scoped>\n",
       "    .dataframe tbody tr th:only-of-type {\n",
       "        vertical-align: middle;\n",
       "    }\n",
       "\n",
       "    .dataframe tbody tr th {\n",
       "        vertical-align: top;\n",
       "    }\n",
       "\n",
       "    .dataframe thead th {\n",
       "        text-align: right;\n",
       "    }\n",
       "</style>\n",
       "<table border=\"1\" class=\"dataframe\">\n",
       "  <thead>\n",
       "    <tr style=\"text-align: right;\">\n",
       "      <th></th>\n",
       "      <th>id</th>\n",
       "      <th>label</th>\n",
       "      <th>tweet</th>\n",
       "      <th>tidy_tweet</th>\n",
       "    </tr>\n",
       "  </thead>\n",
       "  <tbody>\n",
       "    <tr>\n",
       "      <th>0</th>\n",
       "      <td>1</td>\n",
       "      <td>0</td>\n",
       "      <td>RT @AskAnshul: BBC interviewed 4 Indian Muslim...</td>\n",
       "      <td>interview indian muslim youth from ayodhya. yo...</td>\n",
       "    </tr>\n",
       "    <tr>\n",
       "      <th>1</th>\n",
       "      <td>2</td>\n",
       "      <td>0</td>\n",
       "      <td>RT @TIinExile: The future Ram Mandir of Ayodhy...</td>\n",
       "      <td>futur mandir ayodhya should grand &amp;amp; glorio...</td>\n",
       "    </tr>\n",
       "    <tr>\n",
       "      <th>2</th>\n",
       "      <td>3</td>\n",
       "      <td>0</td>\n",
       "      <td>RT @ShakunthalaHS: ಮುಂದೆ ಇತಿಹಾಸದಲ್ಲಿ ಬರೆದಿಡಲಾಗ...</td>\n",
       "      <td>ಮುಂದೆ ಇತಿಹಾಸದಲ್ಲಿ ಬರೆದಿಡಲಾಗುತ್ತದೆ ಕೇವಲ ದಿನಗಳಲ್...</td>\n",
       "    </tr>\n",
       "    <tr>\n",
       "      <th>3</th>\n",
       "      <td>4</td>\n",
       "      <td>0</td>\n",
       "      <td>RT @ashutosh83B: उर्मिलेश की धारदार क़लम से\\n\\...</td>\n",
       "      <td>उर्मिलेश धारदार क़लम अयोध्या: अदालत मानती मंदि...</td>\n",
       "    </tr>\n",
       "    <tr>\n",
       "      <th>4</th>\n",
       "      <td>5</td>\n",
       "      <td>0</td>\n",
       "      <td>RT @rpbreakingnews: #AyodhyaCase  में सोशल मीड...</td>\n",
       "      <td>#ayodhyacas सोशल मीडिया विवादित पोस्ट, #rajast...</td>\n",
       "    </tr>\n",
       "  </tbody>\n",
       "</table>\n",
       "</div>"
      ],
      "text/plain": [
       "  id label                                              tweet  \\\n",
       "0  1     0  RT @AskAnshul: BBC interviewed 4 Indian Muslim...   \n",
       "1  2     0  RT @TIinExile: The future Ram Mandir of Ayodhy...   \n",
       "2  3     0  RT @ShakunthalaHS: ಮುಂದೆ ಇತಿಹಾಸದಲ್ಲಿ ಬರೆದಿಡಲಾಗ...   \n",
       "3  4     0  RT @ashutosh83B: उर्मिलेश की धारदार क़लम से\\n\\...   \n",
       "4  5     0  RT @rpbreakingnews: #AyodhyaCase  में सोशल मीड...   \n",
       "\n",
       "                                          tidy_tweet  \n",
       "0  interview indian muslim youth from ayodhya. yo...  \n",
       "1  futur mandir ayodhya should grand &amp; glorio...  \n",
       "2  ಮುಂದೆ ಇತಿಹಾಸದಲ್ಲಿ ಬರೆದಿಡಲಾಗುತ್ತದೆ ಕೇವಲ ದಿನಗಳಲ್...  \n",
       "3  उर्मिलेश धारदार क़लम अयोध्या: अदालत मानती मंदि...  \n",
       "4  #ayodhyacas सोशल मीडिया विवादित पोस्ट, #rajast...  "
      ]
     },
     "execution_count": 35,
     "metadata": {},
     "output_type": "execute_result"
    }
   ],
   "source": [
    "#stiching these tokens together\n",
    "\n",
    "for i in range(len(tokenized_tweet)):\n",
    "    tokenized_tweet[i] = ' '.join(tokenized_tweet[i])\n",
    "total_data['tidy_tweet'] = tokenized_tweet\n",
    "total_data.head()"
   ]
  },
  {
   "cell_type": "code",
   "execution_count": 36,
   "metadata": {},
   "outputs": [
    {
     "name": "stdout",
     "output_type": "stream",
     "text": [
      "id\n",
      "label\n",
      "tweet\n",
      "tidy_tweet\n"
     ]
    }
   ],
   "source": [
    "# checking out the features of the total_data dataframe\n",
    "\n",
    "for col in total_data.columns:\n",
    "\tprint(col)"
   ]
  },
  {
   "cell_type": "code",
   "execution_count": 37,
   "metadata": {},
   "outputs": [
    {
     "name": "stdout",
     "output_type": "stream",
     "text": [
      "[[0 1 0 ... 0 0 0]\n",
      " [0 0 1 ... 0 0 0]\n",
      " [0 0 0 ... 0 0 0]\n",
      " ...\n",
      " [0 0 0 ... 0 0 0]\n",
      " [0 0 0 ... 1 0 0]\n",
      " [0 0 0 ... 0 0 0]]\n"
     ]
    }
   ],
   "source": [
    "# converting tidy_tweets column to numerical value using bag of words algorithm\n",
    "\n",
    "from sklearn.feature_extraction.text import CountVectorizer\n",
    "bow_vectorizer = CountVectorizer(max_df=0.90,min_df=2,max_features=1000, stop_words='english')\n",
    "\n",
    "# bag-of-words feature matrix\n",
    "\n",
    "bow = bow_vectorizer.fit_transform(total_data['tidy_tweet'])\n",
    "\n",
    "# get an idea of bow array as it is difficult to visualise in normal form\n",
    "#hence converting it to a numpy array\n",
    "\n",
    "print(bow.toarray())"
   ]
  },
  {
   "cell_type": "code",
   "execution_count": 38,
   "metadata": {},
   "outputs": [],
   "source": [
    "# import classes for logistic regression\n",
    "\n",
    "from sklearn.linear_model import LogisticRegression\n",
    "from sklearn.model_selection import train_test_split\n",
    "from sklearn.metrics import f1_score"
   ]
  },
  {
   "cell_type": "code",
   "execution_count": 39,
   "metadata": {},
   "outputs": [
    {
     "data": {
      "text/plain": [
       "57"
      ]
     },
     "execution_count": 39,
     "metadata": {},
     "output_type": "execute_result"
    }
   ],
   "source": [
    "# splitting combined data\n",
    "\n",
    "train_bow = bow[:57,:]\n",
    "test_bow = bow[57:,:]\n",
    "\n",
    "len(train_bow.toarray())"
   ]
  },
  {
   "cell_type": "code",
   "execution_count": 40,
   "metadata": {},
   "outputs": [
    {
     "name": "stdout",
     "output_type": "stream",
     "text": [
      "38\n",
      "38\n",
      "26\n",
      "26\n"
     ]
    }
   ],
   "source": [
    "# splitting data into training and validation set\n",
    "xtrain_bow, xvalid_bow, ytrain, yvalid = train_test_split(bow, total_data['label'],  test_size=0.4)\n",
    "\n",
    "print(len(xtrain_bow.toarray()))\n",
    "print(len(ytrain))\n",
    "print(len(xvalid_bow.toarray()))\n",
    "print(len(yvalid))"
   ]
  },
  {
   "cell_type": "code",
   "execution_count": 41,
   "metadata": {},
   "outputs": [
    {
     "name": "stdout",
     "output_type": "stream",
     "text": [
      "0.0\n"
     ]
    }
   ],
   "source": [
    "lreg=LogisticRegression()\n",
    "lreg.fit(xtrain_bow,list(ytrain))\n",
    "\n",
    "prediction = lreg.predict_proba(xvalid_bow) # predicting on the validation set\n",
    "prediction_int = prediction[:,1] >= 0.3 # if prediction is greater than or equal to 0.3 than 1 else 0\n",
    "prediction_int = prediction_int.astype(np.int)\n",
    "\n",
    "print(f1_score(list(yvalid), prediction_int))"
   ]
  }
 ],
 "metadata": {
  "kernelspec": {
   "display_name": "Python 3",
   "language": "python",
   "name": "python3"
  },
  "language_info": {
   "codemirror_mode": {
    "name": "ipython",
    "version": 3
   },
   "file_extension": ".py",
   "mimetype": "text/x-python",
   "name": "python",
   "nbconvert_exporter": "python",
   "pygments_lexer": "ipython3",
   "version": "3.7.0"
  }
 },
 "nbformat": 4,
 "nbformat_minor": 2
}
