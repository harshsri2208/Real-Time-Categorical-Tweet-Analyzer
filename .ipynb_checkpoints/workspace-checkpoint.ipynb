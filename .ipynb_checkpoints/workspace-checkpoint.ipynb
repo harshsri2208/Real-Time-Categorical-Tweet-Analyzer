{
 "cells": [
  {
   "cell_type": "code",
   "execution_count": 42,
   "metadata": {},
   "outputs": [],
   "source": [
    "# this program is a test implementation of twitter sentiment analysis\n",
    "\n",
    "# importing important libraries\n",
    "\n",
    "import re\n",
    "import pandas as pd \n",
    "import numpy as np \n",
    "import matplotlib.pyplot as plt \n",
    "import seaborn as sns\n",
    "import string\n",
    "import nltk\n",
    "import warnings \n",
    "import tweepy \n",
    "from tweepy import OAuthHandler \n",
    "from textblob import TextBlob\n",
    "from nltk.stem.porter import * \n",
    "warnings.filterwarnings(\"ignore\", category=DeprecationWarning)\n",
    "%matplotlib inline"
   ]
  },
  {
   "cell_type": "code",
   "execution_count": 43,
   "metadata": {},
   "outputs": [
    {
     "data": {
      "text/html": [
       "<div>\n",
       "<style scoped>\n",
       "    .dataframe tbody tr th:only-of-type {\n",
       "        vertical-align: middle;\n",
       "    }\n",
       "\n",
       "    .dataframe tbody tr th {\n",
       "        vertical-align: top;\n",
       "    }\n",
       "\n",
       "    .dataframe thead th {\n",
       "        text-align: right;\n",
       "    }\n",
       "</style>\n",
       "<table border=\"1\" class=\"dataframe\">\n",
       "  <thead>\n",
       "    <tr style=\"text-align: right;\">\n",
       "      <th></th>\n",
       "      <th>id</th>\n",
       "      <th>label</th>\n",
       "      <th>tweet</th>\n",
       "    </tr>\n",
       "  </thead>\n",
       "  <tbody>\n",
       "    <tr>\n",
       "      <th>0</th>\n",
       "      <td>1</td>\n",
       "      <td>1</td>\n",
       "      <td>A whistleblower who complained about Trump's U...</td>\n",
       "    </tr>\n",
       "    <tr>\n",
       "      <th>1</th>\n",
       "      <td>2</td>\n",
       "      <td>0</td>\n",
       "      <td>RT @TiaBarracini: When Nikki Haley left the Tr...</td>\n",
       "    </tr>\n",
       "    <tr>\n",
       "      <th>2</th>\n",
       "      <td>3</td>\n",
       "      <td>1</td>\n",
       "      <td>RT @amvetsupport: Tomorrow when trump starts i...</td>\n",
       "    </tr>\n",
       "    <tr>\n",
       "      <th>3</th>\n",
       "      <td>4</td>\n",
       "      <td>0</td>\n",
       "      <td>RT @queerBengali: I don’t care about the ageis...</td>\n",
       "    </tr>\n",
       "    <tr>\n",
       "      <th>4</th>\n",
       "      <td>5</td>\n",
       "      <td>0</td>\n",
       "      <td>RT @sandyleevincent: @realDonaldTrump Happy Ve...</td>\n",
       "    </tr>\n",
       "  </tbody>\n",
       "</table>\n",
       "</div>"
      ],
      "text/plain": [
       "  id label                                              tweet\n",
       "0  1     1  A whistleblower who complained about Trump's U...\n",
       "1  2     0  RT @TiaBarracini: When Nikki Haley left the Tr...\n",
       "2  3     1  RT @amvetsupport: Tomorrow when trump starts i...\n",
       "3  4     0  RT @queerBengali: I don’t care about the ageis...\n",
       "4  5     0  RT @sandyleevincent: @realDonaldTrump Happy Ve..."
      ]
     },
     "execution_count": 43,
     "metadata": {},
     "output_type": "execute_result"
    }
   ],
   "source": [
    "# creating Twitter Client class\n",
    "\n",
    "class TwitterClient(object): \n",
    "    ''' \n",
    "    Generic Twitter Class for sentiment analysis. \n",
    "    '''\n",
    "    def __init__(self): \n",
    "        ''' \n",
    "        Class constructor or initialization method. \n",
    "        '''\n",
    "        # keys and tokens from the Twitter Dev Console \n",
    "        consumer_key = 'ERS05dnwc0TYR0OdsUb5laSVm'\n",
    "        consumer_secret = '00pvBBm7YZERmcvZaY1wKJC5Wu8YkRamSDubWLlCDioQSR29YX'\n",
    "        access_token = '1187987957921144833-VjnzaLAfcASRaCkl3gzQWjnL4k1E4x'\n",
    "        access_token_secret = 'rg0BFRXIKpm7knuBbf5V4c40IwrMhBBONtUVzVsofRAth'\n",
    "  \n",
    "        # attempt authentication \n",
    "        try: \n",
    "            # create OAuthHandler object \n",
    "            self.auth = OAuthHandler(consumer_key, consumer_secret) \n",
    "            # set access token and secret \n",
    "            self.auth.set_access_token(access_token, access_token_secret) \n",
    "            # create tweepy API object to fetch tweets \n",
    "            self.api = tweepy.API(self.auth) \n",
    "        except: \n",
    "            print(\"Error: Authentication Failed\") \n",
    "  \n",
    "    def clean_tweet(self, tweet): \n",
    "        ''' \n",
    "        Utility function to clean tweet text by removing links, special characters \n",
    "        using simple regex statements. \n",
    "        '''\n",
    "        return ' '.join(re.sub(\"(@[A-Za-z0-9]+)|([^0-9A-Za-z \\t])|(\\w+:\\/\\/\\S+)\", \" \", tweet).split()) \n",
    "  \n",
    "    def get_tweet_sentiment(self, tweet): \n",
    "        ''' \n",
    "        Utility function to classify sentiment of passed tweet \n",
    "        using textblob's sentiment method \n",
    "        '''\n",
    "        # create TextBlob object of passed tweet text \n",
    "        analysis = TextBlob(self.clean_tweet(tweet)) \n",
    "        # set sentiment \n",
    "        if analysis.sentiment.polarity < 0: \n",
    "            return 1\n",
    "        else: \n",
    "            return 0\n",
    "  \n",
    "    def get_tweets(self, query, count = 1000): \n",
    "        ''' \n",
    "        Main function to fetch tweets and parse them. \n",
    "        '''\n",
    "        # empty list to store parsed tweets \n",
    "        tweets = [] \n",
    "  \n",
    "        try: \n",
    "            # call twitter api to fetch tweets \n",
    "            fetched_tweets = self.api.search(q = query, count = count) \n",
    "  \n",
    "            # parsing tweets one by one \n",
    "            for tweet in fetched_tweets: \n",
    "                # empty dictionary to store required params of a tweet \n",
    "                parsed_tweet = {} \n",
    "  \n",
    "                # saving text of tweet \n",
    "                parsed_tweet['text'] = tweet.text \n",
    "                # saving sentiment of tweet \n",
    "                parsed_tweet['sentiment'] = self.get_tweet_sentiment(tweet.text) \n",
    "  \n",
    "                # appending parsed tweet to tweets list \n",
    "                if tweet.retweet_count > 0: \n",
    "                    # if tweet has retweets, ensure that it is appended only once \n",
    "                    if parsed_tweet not in tweets: \n",
    "                        tweets.append(parsed_tweet) \n",
    "                else: \n",
    "                    tweets.append(parsed_tweet) \n",
    "  \n",
    "            # return parsed tweets \n",
    "            return tweets \n",
    "  \n",
    "        except tweepy.TweepError as e: \n",
    "            # print error (if any) \n",
    "            print(\"Error : \" + str(e))\n",
    "                               \n",
    "api=TwitterClient()\n",
    "tweets=api.get_tweets(query=\"trump\")\n",
    "tweets\n",
    "total_data=pd.read_csv('empty.csv')\n",
    "train=pd.read_csv('empty1.csv')\n",
    "test=pd.read_csv('empty2.csv')\n",
    "trainsize=int(len(tweets)*0.6)\n",
    "for i in range(len(tweets)):\n",
    "    if i<trainsize:\n",
    "        train.loc[i]=[i+1,tweets[i][\"sentiment\"],tweets[i][\"text\"]]\n",
    "    else:\n",
    "        test.loc[i]=[i+1,tweets[i][\"sentiment\"],tweets[i][\"text\"]]\n",
    "    total_data.loc[i]=[i+1,tweets[i][\"sentiment\"],tweets[i][\"text\"]]\n",
    "    i=i+1\n",
    "    \n",
    "total_data.head()"
   ]
  },
  {
   "cell_type": "code",
   "execution_count": 44,
   "metadata": {},
   "outputs": [
    {
     "name": "stdout",
     "output_type": "stream",
     "text": [
      "93\n",
      "55\n",
      "38\n"
     ]
    }
   ],
   "source": [
    "# loading training and test data\n",
    "\n",
    "#train  = pd.read_csv('Dataset/train_tweets.csv')\n",
    "#test = pd.read_csv('Dataset/test_tweets.csv')\n",
    "\n",
    "#combining training and and test data for preprocessing \n",
    "#total_data = train.append(test, ignore_index=True)\n",
    "print(len(total_data))\n",
    "print(len(train))\n",
    "print(len(test))"
   ]
  },
  {
   "cell_type": "code",
   "execution_count": 45,
   "metadata": {},
   "outputs": [],
   "source": [
    "#train.head()"
   ]
  },
  {
   "cell_type": "code",
   "execution_count": 46,
   "metadata": {},
   "outputs": [],
   "source": [
    "#function to remove @word pattern from the tweets as they do not add any value\n",
    "\n",
    "def remove_pattern(input_txt, pattern):\n",
    "    r = re.findall(pattern, input_txt)\n",
    "    for i in r:\n",
    "        input_txt = re.sub(i, '', input_txt)\n",
    "        \n",
    "    return input_txt"
   ]
  },
  {
   "cell_type": "code",
   "execution_count": 47,
   "metadata": {},
   "outputs": [
    {
     "name": "stdout",
     "output_type": "stream",
     "text": [
      "\n",
      "\n",
      "Removing  Twitter Handles \n",
      "\n",
      "\n"
     ]
    },
    {
     "data": {
      "text/html": [
       "<div>\n",
       "<style scoped>\n",
       "    .dataframe tbody tr th:only-of-type {\n",
       "        vertical-align: middle;\n",
       "    }\n",
       "\n",
       "    .dataframe tbody tr th {\n",
       "        vertical-align: top;\n",
       "    }\n",
       "\n",
       "    .dataframe thead th {\n",
       "        text-align: right;\n",
       "    }\n",
       "</style>\n",
       "<table border=\"1\" class=\"dataframe\">\n",
       "  <thead>\n",
       "    <tr style=\"text-align: right;\">\n",
       "      <th></th>\n",
       "      <th>id</th>\n",
       "      <th>label</th>\n",
       "      <th>tweet</th>\n",
       "      <th>tidy_tweet</th>\n",
       "    </tr>\n",
       "  </thead>\n",
       "  <tbody>\n",
       "    <tr>\n",
       "      <th>0</th>\n",
       "      <td>1</td>\n",
       "      <td>1</td>\n",
       "      <td>A whistleblower who complained about Trump's U...</td>\n",
       "      <td>A whistleblower who complained about Trump's U...</td>\n",
       "    </tr>\n",
       "    <tr>\n",
       "      <th>1</th>\n",
       "      <td>2</td>\n",
       "      <td>0</td>\n",
       "      <td>RT @TiaBarracini: When Nikki Haley left the Tr...</td>\n",
       "      <td>RT : When Nikki Haley left the Trump administr...</td>\n",
       "    </tr>\n",
       "    <tr>\n",
       "      <th>2</th>\n",
       "      <td>3</td>\n",
       "      <td>1</td>\n",
       "      <td>RT @amvetsupport: Tomorrow when trump starts i...</td>\n",
       "      <td>RT : Tomorrow when trump starts in with his ph...</td>\n",
       "    </tr>\n",
       "    <tr>\n",
       "      <th>3</th>\n",
       "      <td>4</td>\n",
       "      <td>0</td>\n",
       "      <td>RT @queerBengali: I don’t care about the ageis...</td>\n",
       "      <td>RT : I don’t care about the ageism of ‘ok, boo...</td>\n",
       "    </tr>\n",
       "    <tr>\n",
       "      <th>4</th>\n",
       "      <td>5</td>\n",
       "      <td>0</td>\n",
       "      <td>RT @sandyleevincent: @realDonaldTrump Happy Ve...</td>\n",
       "      <td>RT :  Happy Veterans Day President Trump. Our ...</td>\n",
       "    </tr>\n",
       "  </tbody>\n",
       "</table>\n",
       "</div>"
      ],
      "text/plain": [
       "  id label                                              tweet  \\\n",
       "0  1     1  A whistleblower who complained about Trump's U...   \n",
       "1  2     0  RT @TiaBarracini: When Nikki Haley left the Tr...   \n",
       "2  3     1  RT @amvetsupport: Tomorrow when trump starts i...   \n",
       "3  4     0  RT @queerBengali: I don’t care about the ageis...   \n",
       "4  5     0  RT @sandyleevincent: @realDonaldTrump Happy Ve...   \n",
       "\n",
       "                                          tidy_tweet  \n",
       "0  A whistleblower who complained about Trump's U...  \n",
       "1  RT : When Nikki Haley left the Trump administr...  \n",
       "2  RT : Tomorrow when trump starts in with his ph...  \n",
       "3  RT : I don’t care about the ageism of ‘ok, boo...  \n",
       "4  RT :  Happy Veterans Day President Trump. Our ...  "
      ]
     },
     "execution_count": 47,
     "metadata": {},
     "output_type": "execute_result"
    }
   ],
   "source": [
    "# removing @username patterns from tweets using remove_pattern function\n",
    "\n",
    "print('\\n\\nRemoving  Twitter Handles \\n\\n')\n",
    "total_data['tidy_tweet'] = np.vectorize(remove_pattern)(total_data['tweet'], \"@[\\w]*\")\n",
    "total_data.head()"
   ]
  },
  {
   "cell_type": "code",
   "execution_count": 48,
   "metadata": {},
   "outputs": [
    {
     "name": "stdout",
     "output_type": "stream",
     "text": [
      "\n",
      "\n",
      "Removing Short Words\n",
      "\n",
      "\n"
     ]
    },
    {
     "data": {
      "text/html": [
       "<div>\n",
       "<style scoped>\n",
       "    .dataframe tbody tr th:only-of-type {\n",
       "        vertical-align: middle;\n",
       "    }\n",
       "\n",
       "    .dataframe tbody tr th {\n",
       "        vertical-align: top;\n",
       "    }\n",
       "\n",
       "    .dataframe thead th {\n",
       "        text-align: right;\n",
       "    }\n",
       "</style>\n",
       "<table border=\"1\" class=\"dataframe\">\n",
       "  <thead>\n",
       "    <tr style=\"text-align: right;\">\n",
       "      <th></th>\n",
       "      <th>id</th>\n",
       "      <th>label</th>\n",
       "      <th>tweet</th>\n",
       "      <th>tidy_tweet</th>\n",
       "    </tr>\n",
       "  </thead>\n",
       "  <tbody>\n",
       "    <tr>\n",
       "      <th>0</th>\n",
       "      <td>1</td>\n",
       "      <td>1</td>\n",
       "      <td>A whistleblower who complained about Trump's U...</td>\n",
       "      <td>whistleblower complained about Trump's Ukraine...</td>\n",
       "    </tr>\n",
       "    <tr>\n",
       "      <th>1</th>\n",
       "      <td>2</td>\n",
       "      <td>0</td>\n",
       "      <td>RT @TiaBarracini: When Nikki Haley left the Tr...</td>\n",
       "      <td>When Nikki Haley left Trump administration, th...</td>\n",
       "    </tr>\n",
       "    <tr>\n",
       "      <th>2</th>\n",
       "      <td>3</td>\n",
       "      <td>1</td>\n",
       "      <td>RT @amvetsupport: Tomorrow when trump starts i...</td>\n",
       "      <td>Tomorrow when trump starts with photo phony pl...</td>\n",
       "    </tr>\n",
       "    <tr>\n",
       "      <th>3</th>\n",
       "      <td>4</td>\n",
       "      <td>0</td>\n",
       "      <td>RT @queerBengali: I don’t care about the ageis...</td>\n",
       "      <td>don’t care about ageism ‘ok, boomer’ What care...</td>\n",
       "    </tr>\n",
       "    <tr>\n",
       "      <th>4</th>\n",
       "      <td>5</td>\n",
       "      <td>0</td>\n",
       "      <td>RT @sandyleevincent: @realDonaldTrump Happy Ve...</td>\n",
       "      <td>Happy Veterans President Trump. veteran family...</td>\n",
       "    </tr>\n",
       "  </tbody>\n",
       "</table>\n",
       "</div>"
      ],
      "text/plain": [
       "  id label                                              tweet  \\\n",
       "0  1     1  A whistleblower who complained about Trump's U...   \n",
       "1  2     0  RT @TiaBarracini: When Nikki Haley left the Tr...   \n",
       "2  3     1  RT @amvetsupport: Tomorrow when trump starts i...   \n",
       "3  4     0  RT @queerBengali: I don’t care about the ageis...   \n",
       "4  5     0  RT @sandyleevincent: @realDonaldTrump Happy Ve...   \n",
       "\n",
       "                                          tidy_tweet  \n",
       "0  whistleblower complained about Trump's Ukraine...  \n",
       "1  When Nikki Haley left Trump administration, th...  \n",
       "2  Tomorrow when trump starts with photo phony pl...  \n",
       "3  don’t care about ageism ‘ok, boomer’ What care...  \n",
       "4  Happy Veterans President Trump. veteran family...  "
      ]
     },
     "execution_count": 48,
     "metadata": {},
     "output_type": "execute_result"
    }
   ],
   "source": [
    "# words with small lenght i.e., words having length smaller than 3 hardly hold any sentiment\n",
    "# hence it is better to remove such words\n",
    "\n",
    "print('\\n\\nRemoving Short Words\\n\\n')\n",
    "total_data['tidy_tweet'] = total_data['tidy_tweet'].apply(lambda x: ' '.join([w for w in x.split() if len(w)>3]))\n",
    "total_data.head()"
   ]
  },
  {
   "cell_type": "code",
   "execution_count": 49,
   "metadata": {},
   "outputs": [
    {
     "name": "stdout",
     "output_type": "stream",
     "text": [
      "\n",
      "\n",
      "Tweet Tokenization\n",
      "\n",
      "\n"
     ]
    },
    {
     "data": {
      "text/plain": [
       "0    [whistleblower, complained, about, Trump's, Uk...\n",
       "1    [When, Nikki, Haley, left, Trump, administrati...\n",
       "2    [Tomorrow, when, trump, starts, with, photo, p...\n",
       "3    [don’t, care, about, ageism, ‘ok,, boomer’, Wh...\n",
       "4    [Happy, Veterans, President, Trump., veteran, ...\n",
       "Name: tidy_tweet, dtype: object"
      ]
     },
     "execution_count": 49,
     "metadata": {},
     "output_type": "execute_result"
    }
   ],
   "source": [
    "# separating each word as a token\n",
    "\n",
    "print('\\n\\nTweet Tokenization\\n\\n')\n",
    "tokenized_tweet = total_data['tidy_tweet'].apply(lambda x: x.split())\n",
    "tokenized_tweet.head()"
   ]
  },
  {
   "cell_type": "code",
   "execution_count": 50,
   "metadata": {},
   "outputs": [
    {
     "name": "stdout",
     "output_type": "stream",
     "text": [
      "\n",
      "\n",
      "Stemming\n",
      "\n",
      "\n"
     ]
    },
    {
     "data": {
      "text/plain": [
       "0    [whistleblow, complain, about, trump', ukrain,...\n",
       "1    [when, nikki, haley, left, trump, administrati...\n",
       "2    [tomorrow, when, trump, start, with, photo, ph...\n",
       "3    [don’t, care, about, ageism, ‘ok,, boomer’, wh...\n",
       "4    [happi, veteran, presid, trump., veteran, fami...\n",
       "Name: tidy_tweet, dtype: object"
      ]
     },
     "execution_count": 50,
     "metadata": {},
     "output_type": "execute_result"
    }
   ],
   "source": [
    "# stemming words i.e, words are play,playing,played are treated similarly\n",
    "\n",
    "print('\\n\\nStemming\\n\\n')\n",
    "stemmer = PorterStemmer()\n",
    "tokenized_tweet = tokenized_tweet.apply(lambda x: [stemmer.stem(i) for i in x])\n",
    "tokenized_tweet.head()"
   ]
  },
  {
   "cell_type": "code",
   "execution_count": 51,
   "metadata": {},
   "outputs": [
    {
     "data": {
      "text/html": [
       "<div>\n",
       "<style scoped>\n",
       "    .dataframe tbody tr th:only-of-type {\n",
       "        vertical-align: middle;\n",
       "    }\n",
       "\n",
       "    .dataframe tbody tr th {\n",
       "        vertical-align: top;\n",
       "    }\n",
       "\n",
       "    .dataframe thead th {\n",
       "        text-align: right;\n",
       "    }\n",
       "</style>\n",
       "<table border=\"1\" class=\"dataframe\">\n",
       "  <thead>\n",
       "    <tr style=\"text-align: right;\">\n",
       "      <th></th>\n",
       "      <th>id</th>\n",
       "      <th>label</th>\n",
       "      <th>tweet</th>\n",
       "      <th>tidy_tweet</th>\n",
       "    </tr>\n",
       "  </thead>\n",
       "  <tbody>\n",
       "    <tr>\n",
       "      <th>0</th>\n",
       "      <td>1</td>\n",
       "      <td>1</td>\n",
       "      <td>A whistleblower who complained about Trump's U...</td>\n",
       "      <td>whistleblow complain about trump' ukrain phone...</td>\n",
       "    </tr>\n",
       "    <tr>\n",
       "      <th>1</th>\n",
       "      <td>2</td>\n",
       "      <td>0</td>\n",
       "      <td>RT @TiaBarracini: When Nikki Haley left the Tr...</td>\n",
       "      <td>when nikki haley left trump administration, th...</td>\n",
       "    </tr>\n",
       "    <tr>\n",
       "      <th>2</th>\n",
       "      <td>3</td>\n",
       "      <td>1</td>\n",
       "      <td>RT @amvetsupport: Tomorrow when trump starts i...</td>\n",
       "      <td>tomorrow when trump start with photo phoni pla...</td>\n",
       "    </tr>\n",
       "    <tr>\n",
       "      <th>3</th>\n",
       "      <td>4</td>\n",
       "      <td>0</td>\n",
       "      <td>RT @queerBengali: I don’t care about the ageis...</td>\n",
       "      <td>don’t care about ageism ‘ok, boomer’ what care...</td>\n",
       "    </tr>\n",
       "    <tr>\n",
       "      <th>4</th>\n",
       "      <td>5</td>\n",
       "      <td>0</td>\n",
       "      <td>RT @sandyleevincent: @realDonaldTrump Happy Ve...</td>\n",
       "      <td>happi veteran presid trump. veteran famili sup...</td>\n",
       "    </tr>\n",
       "  </tbody>\n",
       "</table>\n",
       "</div>"
      ],
      "text/plain": [
       "  id label                                              tweet  \\\n",
       "0  1     1  A whistleblower who complained about Trump's U...   \n",
       "1  2     0  RT @TiaBarracini: When Nikki Haley left the Tr...   \n",
       "2  3     1  RT @amvetsupport: Tomorrow when trump starts i...   \n",
       "3  4     0  RT @queerBengali: I don’t care about the ageis...   \n",
       "4  5     0  RT @sandyleevincent: @realDonaldTrump Happy Ve...   \n",
       "\n",
       "                                          tidy_tweet  \n",
       "0  whistleblow complain about trump' ukrain phone...  \n",
       "1  when nikki haley left trump administration, th...  \n",
       "2  tomorrow when trump start with photo phoni pla...  \n",
       "3  don’t care about ageism ‘ok, boomer’ what care...  \n",
       "4  happi veteran presid trump. veteran famili sup...  "
      ]
     },
     "execution_count": 51,
     "metadata": {},
     "output_type": "execute_result"
    }
   ],
   "source": [
    "#stiching these tokens together\n",
    "\n",
    "for i in range(len(tokenized_tweet)):\n",
    "    tokenized_tweet[i] = ' '.join(tokenized_tweet[i])\n",
    "total_data['tidy_tweet'] = tokenized_tweet\n",
    "total_data.head()"
   ]
  },
  {
   "cell_type": "code",
   "execution_count": 52,
   "metadata": {},
   "outputs": [
    {
     "name": "stdout",
     "output_type": "stream",
     "text": [
      "id\n",
      "label\n",
      "tweet\n",
      "tidy_tweet\n"
     ]
    }
   ],
   "source": [
    "# checking out the features of the total_data dataframe\n",
    "\n",
    "for col in total_data.columns:\n",
    "\tprint(col)"
   ]
  },
  {
   "cell_type": "code",
   "execution_count": 53,
   "metadata": {},
   "outputs": [
    {
     "name": "stdout",
     "output_type": "stream",
     "text": [
      "[[0 0 0 ... 0 1 0]\n",
      " [0 0 0 ... 0 0 0]\n",
      " [0 0 0 ... 0 0 0]\n",
      " ...\n",
      " [0 0 0 ... 0 0 0]\n",
      " [0 0 0 ... 0 0 0]\n",
      " [0 0 0 ... 0 0 0]]\n"
     ]
    }
   ],
   "source": [
    "# converting tidy_tweets column to numerical value using bag of words algorithm\n",
    "\n",
    "from sklearn.feature_extraction.text import CountVectorizer\n",
    "bow_vectorizer = CountVectorizer(max_df=0.90,min_df=2,max_features=1000, stop_words='english')\n",
    "\n",
    "# bag-of-words feature matrix\n",
    "\n",
    "bow = bow_vectorizer.fit_transform(total_data['tidy_tweet'])\n",
    "\n",
    "# get an idea of bow array as it is difficult to visualise in normal form\n",
    "#hence converting it to a numpy array\n",
    "\n",
    "print(bow.toarray())"
   ]
  },
  {
   "cell_type": "code",
   "execution_count": 54,
   "metadata": {},
   "outputs": [],
   "source": [
    "# import classes for logistic regression\n",
    "\n",
    "from sklearn.linear_model import LogisticRegression\n",
    "from sklearn.model_selection import train_test_split\n",
    "from sklearn.metrics import f1_score"
   ]
  },
  {
   "cell_type": "code",
   "execution_count": 55,
   "metadata": {},
   "outputs": [
    {
     "data": {
      "text/plain": [
       "57"
      ]
     },
     "execution_count": 55,
     "metadata": {},
     "output_type": "execute_result"
    }
   ],
   "source": [
    "# splitting combined data\n",
    "\n",
    "train_bow = bow[:57,:]\n",
    "test_bow = bow[57:,:]\n",
    "\n",
    "len(train_bow.toarray())"
   ]
  },
  {
   "cell_type": "code",
   "execution_count": 56,
   "metadata": {},
   "outputs": [
    {
     "name": "stdout",
     "output_type": "stream",
     "text": [
      "55\n",
      "55\n",
      "38\n",
      "38\n"
     ]
    }
   ],
   "source": [
    "# splitting data into training and validation set\n",
    "xtrain_bow, xvalid_bow, ytrain, yvalid = train_test_split(bow, total_data['label'],  test_size=0.4)\n",
    "\n",
    "print(len(xtrain_bow.toarray()))\n",
    "print(len(ytrain))\n",
    "print(len(xvalid_bow.toarray()))\n",
    "print(len(yvalid))"
   ]
  },
  {
   "cell_type": "code",
   "execution_count": 57,
   "metadata": {},
   "outputs": [
    {
     "name": "stdout",
     "output_type": "stream",
     "text": [
      "0.25\n"
     ]
    }
   ],
   "source": [
    "lreg=LogisticRegression()\n",
    "lreg.fit(xtrain_bow,list(ytrain))\n",
    "\n",
    "prediction = lreg.predict_proba(xvalid_bow) # predicting on the validation set\n",
    "prediction_int = prediction[:,1] >= 0.3 # if prediction is greater than or equal to 0.3 than 1 else 0\n",
    "prediction_int = prediction_int.astype(np.int)\n",
    "\n",
    "print(f1_score(list(yvalid), prediction_int))"
   ]
  },
  {
   "cell_type": "code",
   "execution_count": null,
   "metadata": {},
   "outputs": [],
   "source": []
  }
 ],
 "metadata": {
  "kernelspec": {
   "display_name": "Python 3",
   "language": "python",
   "name": "python3"
  },
  "language_info": {
   "codemirror_mode": {
    "name": "ipython",
    "version": 3
   },
   "file_extension": ".py",
   "mimetype": "text/x-python",
   "name": "python",
   "nbconvert_exporter": "python",
   "pygments_lexer": "ipython3",
   "version": "3.7.0"
  }
 },
 "nbformat": 4,
 "nbformat_minor": 2
}
